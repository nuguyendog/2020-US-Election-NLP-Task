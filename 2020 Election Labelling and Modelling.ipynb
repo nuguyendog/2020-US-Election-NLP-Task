{
 "cells": [
  {
   "cell_type": "code",
   "execution_count": 1,
   "metadata": {},
   "outputs": [
    {
     "name": "stdout",
     "output_type": "stream",
     "text": [
      "Requirement already satisfied: vaderSentiment in c:\\users\\jackn\\anaconda3\\lib\\site-packages (3.3.2)\n",
      "Requirement already satisfied: requests in c:\\users\\jackn\\anaconda3\\lib\\site-packages (from vaderSentiment) (2.24.0)\n",
      "Requirement already satisfied: idna<3,>=2.5 in c:\\users\\jackn\\anaconda3\\lib\\site-packages (from requests->vaderSentiment) (2.10)\n",
      "Requirement already satisfied: certifi>=2017.4.17 in c:\\users\\jackn\\anaconda3\\lib\\site-packages (from requests->vaderSentiment) (2020.6.20)\n",
      "Requirement already satisfied: chardet<4,>=3.0.2 in c:\\users\\jackn\\anaconda3\\lib\\site-packages (from requests->vaderSentiment) (3.0.4)\n",
      "Requirement already satisfied: urllib3!=1.25.0,!=1.25.1,<1.26,>=1.21.1 in c:\\users\\jackn\\anaconda3\\lib\\site-packages (from requests->vaderSentiment) (1.25.11)\n",
      "Requirement already satisfied: gensim in c:\\users\\jackn\\anaconda3\\lib\\site-packages (4.0.1)\n",
      "Requirement already satisfied: scipy>=0.18.1 in c:\\users\\jackn\\anaconda3\\lib\\site-packages (from gensim) (1.5.2)\n",
      "Requirement already satisfied: smart-open>=1.8.1 in c:\\users\\jackn\\anaconda3\\lib\\site-packages (from gensim) (5.2.0)\n",
      "Requirement already satisfied: numpy>=1.11.3 in c:\\users\\jackn\\anaconda3\\lib\\site-packages (from gensim) (1.21.2)\n",
      "Requirement already satisfied: Cython==0.29.21 in c:\\users\\jackn\\anaconda3\\lib\\site-packages (from gensim) (0.29.21)\n",
      "Requirement already satisfied: imbalanced-learn in c:\\users\\jackn\\appdata\\roaming\\python\\python38\\site-packages (0.8.0)\n",
      "Requirement already satisfied: scikit-learn>=0.24 in c:\\users\\jackn\\anaconda3\\lib\\site-packages (from imbalanced-learn) (0.24.2)\n",
      "Requirement already satisfied: scipy>=0.19.1 in c:\\users\\jackn\\anaconda3\\lib\\site-packages (from imbalanced-learn) (1.5.2)\n",
      "Requirement already satisfied: numpy>=1.13.3 in c:\\users\\jackn\\anaconda3\\lib\\site-packages (from imbalanced-learn) (1.21.2)\n",
      "Requirement already satisfied: joblib>=0.11 in c:\\users\\jackn\\anaconda3\\lib\\site-packages (from imbalanced-learn) (0.17.0)\n",
      "Requirement already satisfied: threadpoolctl>=2.0.0 in c:\\users\\jackn\\anaconda3\\lib\\site-packages (from scikit-learn>=0.24->imbalanced-learn) (2.1.0)\n",
      "Requirement already satisfied: boto3 in c:\\users\\jackn\\anaconda3\\lib\\site-packages (1.18.36)\n",
      "Requirement already satisfied: s3transfer<0.6.0,>=0.5.0 in c:\\users\\jackn\\anaconda3\\lib\\site-packages (from boto3) (0.5.0)\n",
      "Requirement already satisfied: botocore<1.22.0,>=1.21.36 in c:\\users\\jackn\\anaconda3\\lib\\site-packages (from boto3) (1.21.36)\n",
      "Requirement already satisfied: jmespath<1.0.0,>=0.7.1 in c:\\users\\jackn\\anaconda3\\lib\\site-packages (from boto3) (0.10.0)\n",
      "Requirement already satisfied: urllib3<1.27,>=1.25.4 in c:\\users\\jackn\\anaconda3\\lib\\site-packages (from botocore<1.22.0,>=1.21.36->boto3) (1.25.11)\n",
      "Requirement already satisfied: python-dateutil<3.0.0,>=2.1 in c:\\users\\jackn\\anaconda3\\lib\\site-packages (from botocore<1.22.0,>=1.21.36->boto3) (2.8.1)\n",
      "Requirement already satisfied: six>=1.5 in c:\\users\\jackn\\anaconda3\\lib\\site-packages (from python-dateutil<3.0.0,>=2.1->botocore<1.22.0,>=1.21.36->boto3) (1.15.0)\n"
     ]
    }
   ],
   "source": [
    "!pip install vaderSentiment\n",
    "!pip install gensim\n",
    "!pip install imbalanced-learn --user\n",
    "!pip install boto3"
   ]
  },
  {
   "cell_type": "code",
   "execution_count": 2,
   "metadata": {},
   "outputs": [],
   "source": [
    "import numpy as np\n",
    "import pandas as pd\n",
    "import boto3\n",
    "import tensorflow as tf\n",
    "import mglearn\n",
    "from keras.datasets import imdb\n",
    "from keras.models import Sequential\n",
    "from keras.layers import Dense, SimpleRNN\n",
    "from keras.layers.embeddings import Embedding\n",
    "from keras.layers import LSTM\n",
    "from keras.preprocessing.text import Tokenizer\n",
    "from keras.preprocessing.sequence import pad_sequences\n",
    "from tensorflow.python.client import device_lib\n",
    "from keras.constraints import maxnorm\n",
    "from keras.layers import Dropout\n",
    "from tensorflow.keras.optimizers import RMSprop, Adam\n",
    "import matplotlib.pyplot as plt\n",
    "import time\n",
    "import warnings\n",
    "import statsmodels.formula.api as smf\n",
    "from sklearn import metrics\n",
    "from sklearn import preprocessing\n",
    "from tensorflow.keras import backend as K\n",
    "from tensorflow.keras.callbacks import ModelCheckpoint, EarlyStopping\n",
    "from tensorflow.keras.layers import Dense, LSTM, GRU, Dropout, BatchNormalization\n",
    "from tensorflow.keras.models import Sequential\n",
    "from tensorflow.keras.optimizers import RMSprop,Adam\n",
    "from tensorflow.keras import regularizers\n",
    "warnings.filterwarnings(\"ignore\")\n",
    "#from keras.preprocessing import sequence"
   ]
  },
  {
   "cell_type": "code",
   "execution_count": 3,
   "metadata": {},
   "outputs": [],
   "source": [
    "path = r\"C:\\Users\\jackn\\Documents\\Machine Learning with Python\\tidy_test_tweets.json\"\n",
    "df = pd.read_json(path, orient = 'table')"
   ]
  },
  {
   "cell_type": "code",
   "execution_count": 4,
   "metadata": {},
   "outputs": [
    {
     "data": {
      "text/html": [
       "<div>\n",
       "<style scoped>\n",
       "    .dataframe tbody tr th:only-of-type {\n",
       "        vertical-align: middle;\n",
       "    }\n",
       "\n",
       "    .dataframe tbody tr th {\n",
       "        vertical-align: top;\n",
       "    }\n",
       "\n",
       "    .dataframe thead th {\n",
       "        text-align: right;\n",
       "    }\n",
       "</style>\n",
       "<table border=\"1\" class=\"dataframe\">\n",
       "  <thead>\n",
       "    <tr style=\"text-align: right;\">\n",
       "      <th></th>\n",
       "      <th>text</th>\n",
       "      <th>lemmatized</th>\n",
       "      <th>tokens_back_to_text</th>\n",
       "    </tr>\n",
       "  </thead>\n",
       "  <tbody>\n",
       "    <tr>\n",
       "      <th>0</th>\n",
       "      <td>[rudygiuliani, compete, town, hall, joke, step...</td>\n",
       "      <td>[rudygiuliani, compete, town, hall, joke, step...</td>\n",
       "      <td>rudygiuliani compete town hall joke stephanopo...</td>\n",
       "    </tr>\n",
       "    <tr>\n",
       "      <th>1</th>\n",
       "      <td>[rachelv12, trump, machismo, tcoykfacdodju]</td>\n",
       "      <td>[rachelv12, trump, machismo, tcoykfacdodju]</td>\n",
       "      <td>rachelv12 trump machismo tcoykfacdodju</td>\n",
       "    </tr>\n",
       "    <tr>\n",
       "      <th>2</th>\n",
       "      <td>[briantylercohen, biden, like, encyclopedia, t...</td>\n",
       "      <td>[briantylercohen, biden, like, encyclopedia, t...</td>\n",
       "      <td>briantylercohen biden like encyclopedia tonigh...</td>\n",
       "    </tr>\n",
       "    <tr>\n",
       "      <th>3</th>\n",
       "      <td>[bradleywhitford, yo, semites, qanon, nt, hate...</td>\n",
       "      <td>[bradleywhitford, yo, semite, qanon, nt, hate,...</td>\n",
       "      <td>bradleywhitford yo semite qanon nt hate democr...</td>\n",
       "    </tr>\n",
       "    <tr>\n",
       "      <th>4</th>\n",
       "      <td>[actbrigitte, retweet, president, trump, win, ...</td>\n",
       "      <td>[actbrigitte, retweet, president, trump, win, ...</td>\n",
       "      <td>actbrigitte retweet president trump win debate</td>\n",
       "    </tr>\n",
       "  </tbody>\n",
       "</table>\n",
       "</div>"
      ],
      "text/plain": [
       "                                                text  \\\n",
       "0  [rudygiuliani, compete, town, hall, joke, step...   \n",
       "1        [rachelv12, trump, machismo, tcoykfacdodju]   \n",
       "2  [briantylercohen, biden, like, encyclopedia, t...   \n",
       "3  [bradleywhitford, yo, semites, qanon, nt, hate...   \n",
       "4  [actbrigitte, retweet, president, trump, win, ...   \n",
       "\n",
       "                                          lemmatized  \\\n",
       "0  [rudygiuliani, compete, town, hall, joke, step...   \n",
       "1        [rachelv12, trump, machismo, tcoykfacdodju]   \n",
       "2  [briantylercohen, biden, like, encyclopedia, t...   \n",
       "3  [bradleywhitford, yo, semite, qanon, nt, hate,...   \n",
       "4  [actbrigitte, retweet, president, trump, win, ...   \n",
       "\n",
       "                                 tokens_back_to_text  \n",
       "0  rudygiuliani compete town hall joke stephanopo...  \n",
       "1             rachelv12 trump machismo tcoykfacdodju  \n",
       "2  briantylercohen biden like encyclopedia tonigh...  \n",
       "3  bradleywhitford yo semite qanon nt hate democr...  \n",
       "4     actbrigitte retweet president trump win debate  "
      ]
     },
     "execution_count": 4,
     "metadata": {},
     "output_type": "execute_result"
    }
   ],
   "source": [
    "df.head()"
   ]
  },
  {
   "cell_type": "code",
   "execution_count": 5,
   "metadata": {},
   "outputs": [
    {
     "name": "stdout",
     "output_type": "stream",
     "text": [
      "<class 'list'>\n"
     ]
    }
   ],
   "source": [
    "tweets = list(df['tokens_back_to_text'])\n",
    "print(type(tweets))"
   ]
  },
  {
   "cell_type": "code",
   "execution_count": 6,
   "metadata": {},
   "outputs": [
    {
     "name": "stdout",
     "output_type": "stream",
     "text": [
      "10011\n"
     ]
    }
   ],
   "source": [
    "print(len(tweets))"
   ]
  },
  {
   "cell_type": "code",
   "execution_count": 7,
   "metadata": {},
   "outputs": [],
   "source": [
    "from vaderSentiment.vaderSentiment import SentimentIntensityAnalyzer\n",
    "sa = SentimentIntensityAnalyzer()\n",
    "sentiment = [sa.polarity_scores(tweet) for tweet in tweets]"
   ]
  },
  {
   "cell_type": "code",
   "execution_count": 8,
   "metadata": {},
   "outputs": [
    {
     "name": "stdout",
     "output_type": "stream",
     "text": [
      "(10011, 4)\n"
     ]
    }
   ],
   "source": [
    "sentiments = pd.DataFrame(sentiment, index = df.index)\n",
    "print(sentiments.shape)"
   ]
  },
  {
   "cell_type": "code",
   "execution_count": 9,
   "metadata": {},
   "outputs": [
    {
     "data": {
      "text/html": [
       "<div>\n",
       "<style scoped>\n",
       "    .dataframe tbody tr th:only-of-type {\n",
       "        vertical-align: middle;\n",
       "    }\n",
       "\n",
       "    .dataframe tbody tr th {\n",
       "        vertical-align: top;\n",
       "    }\n",
       "\n",
       "    .dataframe thead th {\n",
       "        text-align: right;\n",
       "    }\n",
       "</style>\n",
       "<table border=\"1\" class=\"dataframe\">\n",
       "  <thead>\n",
       "    <tr style=\"text-align: right;\">\n",
       "      <th></th>\n",
       "      <th>neg</th>\n",
       "      <th>neu</th>\n",
       "      <th>pos</th>\n",
       "      <th>compound</th>\n",
       "    </tr>\n",
       "  </thead>\n",
       "  <tbody>\n",
       "    <tr>\n",
       "      <th>0</th>\n",
       "      <td>0.000</td>\n",
       "      <td>0.739</td>\n",
       "      <td>0.261</td>\n",
       "      <td>0.5000</td>\n",
       "    </tr>\n",
       "    <tr>\n",
       "      <th>1</th>\n",
       "      <td>0.000</td>\n",
       "      <td>1.000</td>\n",
       "      <td>0.000</td>\n",
       "      <td>0.0000</td>\n",
       "    </tr>\n",
       "    <tr>\n",
       "      <th>2</th>\n",
       "      <td>0.000</td>\n",
       "      <td>0.690</td>\n",
       "      <td>0.310</td>\n",
       "      <td>0.5423</td>\n",
       "    </tr>\n",
       "    <tr>\n",
       "      <th>3</th>\n",
       "      <td>0.381</td>\n",
       "      <td>0.619</td>\n",
       "      <td>0.000</td>\n",
       "      <td>-0.8126</td>\n",
       "    </tr>\n",
       "    <tr>\n",
       "      <th>4</th>\n",
       "      <td>0.000</td>\n",
       "      <td>0.568</td>\n",
       "      <td>0.432</td>\n",
       "      <td>0.5859</td>\n",
       "    </tr>\n",
       "  </tbody>\n",
       "</table>\n",
       "</div>"
      ],
      "text/plain": [
       "     neg    neu    pos  compound\n",
       "0  0.000  0.739  0.261    0.5000\n",
       "1  0.000  1.000  0.000    0.0000\n",
       "2  0.000  0.690  0.310    0.5423\n",
       "3  0.381  0.619  0.000   -0.8126\n",
       "4  0.000  0.568  0.432    0.5859"
      ]
     },
     "execution_count": 9,
     "metadata": {},
     "output_type": "execute_result"
    }
   ],
   "source": [
    "sentiments.head()"
   ]
  },
  {
   "cell_type": "code",
   "execution_count": 10,
   "metadata": {},
   "outputs": [
    {
     "data": {
      "text/plain": [
       "neg         0\n",
       "neu         0\n",
       "pos         0\n",
       "compound    0\n",
       "dtype: int64"
      ]
     },
     "execution_count": 10,
     "metadata": {},
     "output_type": "execute_result"
    }
   ],
   "source": [
    "sentiments.isnull().sum()"
   ]
  },
  {
   "cell_type": "code",
   "execution_count": 11,
   "metadata": {},
   "outputs": [],
   "source": [
    "compound = sentiments[['compound']].values"
   ]
  },
  {
   "cell_type": "code",
   "execution_count": 12,
   "metadata": {},
   "outputs": [
    {
     "data": {
      "text/html": [
       "<div>\n",
       "<style scoped>\n",
       "    .dataframe tbody tr th:only-of-type {\n",
       "        vertical-align: middle;\n",
       "    }\n",
       "\n",
       "    .dataframe tbody tr th {\n",
       "        vertical-align: top;\n",
       "    }\n",
       "\n",
       "    .dataframe thead th {\n",
       "        text-align: right;\n",
       "    }\n",
       "</style>\n",
       "<table border=\"1\" class=\"dataframe\">\n",
       "  <thead>\n",
       "    <tr style=\"text-align: right;\">\n",
       "      <th></th>\n",
       "      <th>label</th>\n",
       "    </tr>\n",
       "  </thead>\n",
       "  <tbody>\n",
       "    <tr>\n",
       "      <th>0</th>\n",
       "      <td>0</td>\n",
       "    </tr>\n",
       "    <tr>\n",
       "      <th>1</th>\n",
       "      <td>0</td>\n",
       "    </tr>\n",
       "    <tr>\n",
       "      <th>2</th>\n",
       "      <td>0</td>\n",
       "    </tr>\n",
       "    <tr>\n",
       "      <th>3</th>\n",
       "      <td>1</td>\n",
       "    </tr>\n",
       "    <tr>\n",
       "      <th>4</th>\n",
       "      <td>0</td>\n",
       "    </tr>\n",
       "  </tbody>\n",
       "</table>\n",
       "</div>"
      ],
      "text/plain": [
       "   label\n",
       "0      0\n",
       "1      0\n",
       "2      0\n",
       "3      1\n",
       "4      0"
      ]
     },
     "execution_count": 12,
     "metadata": {},
     "output_type": "execute_result"
    }
   ],
   "source": [
    "# We are now tagging the tweets with sklearn using the k-means algorithm. \n",
    "\n",
    "from sklearn.cluster import KMeans\n",
    "kmeans = KMeans(n_clusters=2, random_state=0).fit(compound)\n",
    "labels = pd.DataFrame(kmeans.labels_, columns=['label'], index=df.index)\n",
    "labels.head()"
   ]
  },
  {
   "cell_type": "code",
   "execution_count": 13,
   "metadata": {},
   "outputs": [],
   "source": [
    "# What do these outputs mean? (I think that it means that they are negative or positive)"
   ]
  },
  {
   "cell_type": "code",
   "execution_count": 14,
   "metadata": {},
   "outputs": [
    {
     "data": {
      "text/plain": [
       "0    7059\n",
       "1    2952\n",
       "Name: label, dtype: int64"
      ]
     },
     "execution_count": 14,
     "metadata": {},
     "output_type": "execute_result"
    }
   ],
   "source": [
    "labels['label'].value_counts()"
   ]
  },
  {
   "cell_type": "code",
   "execution_count": 15,
   "metadata": {},
   "outputs": [
    {
     "data": {
      "text/plain": [
       "(10011, 1)"
      ]
     },
     "execution_count": 15,
     "metadata": {},
     "output_type": "execute_result"
    }
   ],
   "source": [
    "labels.shape"
   ]
  },
  {
   "cell_type": "markdown",
   "metadata": {},
   "source": [
    "Feature Extraction: What is it? \n",
    "\n",
    "The idea behind feature extraction is that it is possible to find a representation of your data that is better suited to analysis than the raw representation you were given. (Muller). \n",
    "\n",
    "We are currently working with 1 feature, which could mean a very poor model accuracy. We can use feature extraction to pull more features from the data, to increase accuracy. However, too many features leads to overfitting. \n",
    "\n",
    "Integer Encoding is when each unique token is assgined to an integer. We encode them so that the features can be processed by the algorithms (they require inputs and outputs to be numbers). \n",
    "\n",
    "I am not sure what padding is, and why the document is padded to 14 words. "
   ]
  },
  {
   "cell_type": "code",
   "execution_count": 16,
   "metadata": {},
   "outputs": [],
   "source": [
    "tokenizer = Tokenizer()\n",
    "tokenizer.fit_on_texts(tweets)"
   ]
  },
  {
   "cell_type": "code",
   "execution_count": 17,
   "metadata": {},
   "outputs": [
    {
     "name": "stdout",
     "output_type": "stream",
     "text": [
      "Found 14553 unique tokens.\n"
     ]
    }
   ],
   "source": [
    "word_index = tokenizer.word_index\n",
    "print('Found %s unique tokens.' % len(word_index))"
   ]
  },
  {
   "cell_type": "code",
   "execution_count": 18,
   "metadata": {},
   "outputs": [],
   "source": [
    "# Integer encoding the documents:\n",
    "\n",
    "sequences = tokenizer.texts_to_sequences(tweets)"
   ]
  },
  {
   "cell_type": "code",
   "execution_count": 19,
   "metadata": {},
   "outputs": [],
   "source": [
    "# Padding documents to max length of 14 words: \n",
    "\n",
    "maxlen = 14\n",
    "X = pad_sequences(sequences, maxlen = maxlen)"
   ]
  },
  {
   "cell_type": "code",
   "execution_count": 20,
   "metadata": {},
   "outputs": [
    {
     "data": {
      "text/plain": [
       "(10011, 14)"
      ]
     },
     "execution_count": 20,
     "metadata": {},
     "output_type": "execute_result"
    }
   ],
   "source": [
    "X.shape"
   ]
  },
  {
   "cell_type": "markdown",
   "metadata": {},
   "source": [
    "We will now use the SMOTE library to balance the dataset: \n",
    "\n",
    "It is important to balance the data, as using unbalanced data in machine learning algorithms can result in misleading outputs (accuracy). Some alternatives are:\n",
    "    Precision/Specificity: how many selected instances are relevant.\n",
    "    Recall/Sensitivity: how many relevant instances are selected.\n",
    "    F1 score: harmonic mean of precision and recall.\n",
    "    MCC: correlation coefficient between the observed and predicted binary classifications.\n",
    "    AUC: relation between true-positive rate and false positive rate. \n",
    "\n",
    "One method of balancing is resampling. We can either increase the size of the rare events, or decrease the size of the abundant class. "
   ]
  },
  {
   "cell_type": "code",
   "execution_count": 21,
   "metadata": {},
   "outputs": [],
   "source": [
    "from imblearn.over_sampling import SMOTE # The over sampling method\n",
    "from imblearn.under_sampling import RandomUnderSampler # The under sampling method\n",
    "from imblearn.pipeline import Pipeline\n",
    "\n",
    "# We are defining the pipeline: \n",
    "over = SMOTE(sampling_strategy = 0.5)\n",
    "under = RandomUnderSampler(sampling_strategy = 0.8)\n",
    "steps = [('o', over), ('u', under)]\n",
    "pipeline = Pipeline(steps = steps)\n",
    "\n",
    "# We transform the pipeline: \n",
    "X, y = pipeline.fit_resample(X, labels['label'])"
   ]
  },
  {
   "cell_type": "code",
   "execution_count": 22,
   "metadata": {},
   "outputs": [
    {
     "name": "stdout",
     "output_type": "stream",
     "text": [
      "Counter({0: 4411, 1: 3529})\n"
     ]
    }
   ],
   "source": [
    "from collections import Counter\n",
    "counter = Counter(y)\n",
    "print(counter)"
   ]
  },
  {
   "cell_type": "code",
   "execution_count": 23,
   "metadata": {},
   "outputs": [],
   "source": [
    "# We are now one-hot encoding the data. \n",
    "\n",
    "from keras.utils.np_utils import to_categorical\n",
    "y = to_categorical(y)"
   ]
  },
  {
   "cell_type": "code",
   "execution_count": 24,
   "metadata": {},
   "outputs": [],
   "source": [
    "# The model is now ready for modelling. \n",
    "\n",
    "from sklearn.model_selection import train_test_split\n",
    "\n",
    "X_train, X_test, y_train, y_test = train_test_split(X, y, test_size = 0.3, random_state = 24)"
   ]
  },
  {
   "cell_type": "code",
   "execution_count": 25,
   "metadata": {},
   "outputs": [
    {
     "data": {
      "text/plain": [
       "((5558, 14), (2382, 14), (5558, 2), (2382, 2))"
      ]
     },
     "execution_count": 25,
     "metadata": {},
     "output_type": "execute_result"
    }
   ],
   "source": [
    "X_train.shape, X_test.shape, y_train.shape, y_test.shape"
   ]
  },
  {
   "cell_type": "markdown",
   "metadata": {},
   "source": [
    "We can now train and test the data with a variety of methods: Deep Learning using RNN and LSTM, which is courtesy of bauyrjanj. We can also use Logistic Regression, Random Forests, Support Vector Machines. "
   ]
  },
  {
   "cell_type": "code",
   "execution_count": 26,
   "metadata": {},
   "outputs": [],
   "source": [
    "# Prepare hyperparameters of RNN\n",
    "vocab_size = len(word_index)+1\n",
    "output_dim = 32"
   ]
  },
  {
   "cell_type": "code",
   "execution_count": 27,
   "metadata": {},
   "outputs": [],
   "source": [
    "# SimpleRNN\n",
    "warnings.filterwarnings(\"ignore\")\n",
    "model = Sequential()\n",
    "model.add(Embedding(input_dim = vocab_size, output_dim = output_dim, input_length = maxlen))\n",
    "model.add(SimpleRNN(units = output_dim, return_sequences=True, kernel_constraint=maxnorm(3)))\n",
    "model.add(Dropout(0.2))\n",
    "model.add(SimpleRNN(units = output_dim, return_sequences=True, kernel_constraint=maxnorm(3)))\n",
    "model.add(Dropout(0.2))\n",
    "model.add(SimpleRNN(units = output_dim))\n",
    "model.add(Dense(2,activation='softmax'))\n",
    "model.compile(loss = 'binary_crossentropy', optimizer='adam', metrics = ['accuracy'])\n",
    "warnings.filterwarnings(\"ignore\")"
   ]
  },
  {
   "cell_type": "code",
   "execution_count": 28,
   "metadata": {},
   "outputs": [
    {
     "name": "stdout",
     "output_type": "stream",
     "text": [
      "Model: \"sequential\"\n",
      "_________________________________________________________________\n",
      "Layer (type)                 Output Shape              Param #   \n",
      "=================================================================\n",
      "embedding (Embedding)        (None, 14, 32)            465728    \n",
      "_________________________________________________________________\n",
      "simple_rnn (SimpleRNN)       (None, 14, 32)            2080      \n",
      "_________________________________________________________________\n",
      "dropout (Dropout)            (None, 14, 32)            0         \n",
      "_________________________________________________________________\n",
      "simple_rnn_1 (SimpleRNN)     (None, 14, 32)            2080      \n",
      "_________________________________________________________________\n",
      "dropout_1 (Dropout)          (None, 14, 32)            0         \n",
      "_________________________________________________________________\n",
      "simple_rnn_2 (SimpleRNN)     (None, 32)                2080      \n",
      "_________________________________________________________________\n",
      "dense (Dense)                (None, 2)                 66        \n",
      "=================================================================\n",
      "Total params: 472,034\n",
      "Trainable params: 472,034\n",
      "Non-trainable params: 0\n",
      "_________________________________________________________________\n"
     ]
    }
   ],
   "source": [
    "model.summary()"
   ]
  },
  {
   "cell_type": "code",
   "execution_count": 29,
   "metadata": {},
   "outputs": [
    {
     "name": "stdout",
     "output_type": "stream",
     "text": [
      "Epoch 1/10\n",
      "122/122 [==============================] - 3s 10ms/step - loss: 0.5904 - accuracy: 0.6743 - val_loss: 0.4335 - val_accuracy: 0.7842\n",
      "Epoch 2/10\n",
      "122/122 [==============================] - 1s 11ms/step - loss: 0.1963 - accuracy: 0.9221 - val_loss: 0.4607 - val_accuracy: 0.8016\n",
      "Epoch 3/10\n",
      "122/122 [==============================] - 2s 14ms/step - loss: 0.0402 - accuracy: 0.9889 - val_loss: 0.5838 - val_accuracy: 0.7974\n",
      "Epoch 4/10\n",
      "122/122 [==============================] - 2s 13ms/step - loss: 0.0123 - accuracy: 0.9977 - val_loss: 0.6663 - val_accuracy: 0.7884\n",
      "Epoch 5/10\n",
      "122/122 [==============================] - 1s 12ms/step - loss: 0.0073 - accuracy: 0.9987 - val_loss: 0.7314 - val_accuracy: 0.7884\n",
      "Epoch 6/10\n",
      "122/122 [==============================] - 1s 11ms/step - loss: 0.0048 - accuracy: 0.9990 - val_loss: 0.7893 - val_accuracy: 0.7842\n",
      "Epoch 7/10\n",
      "122/122 [==============================] - 1s 11ms/step - loss: 0.0034 - accuracy: 0.9995 - val_loss: 0.8321 - val_accuracy: 0.7842\n",
      "Epoch 8/10\n",
      "122/122 [==============================] - 2s 13ms/step - loss: 0.0031 - accuracy: 0.9990 - val_loss: 0.8441 - val_accuracy: 0.7998\n",
      "Epoch 9/10\n",
      "122/122 [==============================] - 2s 13ms/step - loss: 0.0025 - accuracy: 0.9995 - val_loss: 0.8664 - val_accuracy: 0.8028\n",
      "Epoch 10/10\n",
      "122/122 [==============================] - 1s 12ms/step - loss: 0.0011 - accuracy: 1.0000 - val_loss: 0.8981 - val_accuracy: 0.7896\n",
      "Accuracy: 79.05%\n"
     ]
    }
   ],
   "source": [
    "# We are now fitting the model to the training data: \n",
    "\n",
    "rnn_hist = model.fit(X_train, y_train, epochs = 10, validation_split = 0.3)\n",
    "\n",
    "scores = model.evaluate(X_test, y_test, verbose = 0)\n",
    "warnings.filterwarnings(\"ignore\")\n",
    "\n",
    "print(\"Accuracy: %.2f%%\" % (scores[1]*100))\n",
    "warnings.filterwarnings(\"ignore\")\n"
   ]
  },
  {
   "cell_type": "code",
   "execution_count": 30,
   "metadata": {},
   "outputs": [],
   "source": [
    "model.save('srnn.h5')"
   ]
  },
  {
   "cell_type": "code",
   "execution_count": 31,
   "metadata": {},
   "outputs": [],
   "source": [
    "# LSTM Model: \n",
    "\n",
    "#Architecture\n",
    "model = Sequential()\n",
    "model.add(Embedding(input_dim = vocab_size, output_dim = output_dim, input_length = maxlen))\n",
    "model.add(LSTM(units=output_dim, return_sequences=True, kernel_constraint=maxnorm(3)))\n",
    "model.add(Dropout(0.2))\n",
    "model.add(LSTM(units=output_dim, return_sequences=True, kernel_constraint=maxnorm(3)))\n",
    "model.add(Dropout(0.2))\n",
    "model.add(LSTM(units=output_dim, kernel_constraint=maxnorm(3)))\n",
    "model.add(Dense(2,activation='softmax'))\n",
    "model.compile(loss = 'categorical_crossentropy', optimizer='adam', metrics = ['accuracy'])\n",
    "warnings.filterwarnings(\"ignore\")"
   ]
  },
  {
   "cell_type": "code",
   "execution_count": 32,
   "metadata": {},
   "outputs": [
    {
     "name": "stdout",
     "output_type": "stream",
     "text": [
      "Model: \"sequential_1\"\n",
      "_________________________________________________________________\n",
      "Layer (type)                 Output Shape              Param #   \n",
      "=================================================================\n",
      "embedding_1 (Embedding)      (None, 14, 32)            465728    \n",
      "_________________________________________________________________\n",
      "lstm (LSTM)                  (None, 14, 32)            8320      \n",
      "_________________________________________________________________\n",
      "dropout_2 (Dropout)          (None, 14, 32)            0         \n",
      "_________________________________________________________________\n",
      "lstm_1 (LSTM)                (None, 14, 32)            8320      \n",
      "_________________________________________________________________\n",
      "dropout_3 (Dropout)          (None, 14, 32)            0         \n",
      "_________________________________________________________________\n",
      "lstm_2 (LSTM)                (None, 32)                8320      \n",
      "_________________________________________________________________\n",
      "dense_1 (Dense)              (None, 2)                 66        \n",
      "=================================================================\n",
      "Total params: 490,754\n",
      "Trainable params: 490,754\n",
      "Non-trainable params: 0\n",
      "_________________________________________________________________\n"
     ]
    }
   ],
   "source": [
    "model.summary()"
   ]
  },
  {
   "cell_type": "code",
   "execution_count": 33,
   "metadata": {},
   "outputs": [],
   "source": [
    "model.save('lstm.h5')"
   ]
  },
  {
   "cell_type": "code",
   "execution_count": 34,
   "metadata": {},
   "outputs": [
    {
     "name": "stdout",
     "output_type": "stream",
     "text": [
      "Epoch 1/10\n",
      "122/122 [==============================] - 8s 29ms/step - loss: 0.5837 - accuracy: 0.6663 - val_loss: 0.4159 - val_accuracy: 0.8022\n",
      "Epoch 2/10\n",
      "122/122 [==============================] - 2s 19ms/step - loss: 0.2321 - accuracy: 0.9018 - val_loss: 0.3692 - val_accuracy: 0.8495\n",
      "Epoch 3/10\n",
      "122/122 [==============================] - 2s 19ms/step - loss: 0.0746 - accuracy: 0.9779 - val_loss: 0.5163 - val_accuracy: 0.8489\n",
      "Epoch 4/10\n",
      "122/122 [==============================] - 2s 18ms/step - loss: 0.0255 - accuracy: 0.9925 - val_loss: 0.6897 - val_accuracy: 0.8465\n",
      "Epoch 5/10\n",
      "122/122 [==============================] - 2s 18ms/step - loss: 0.0086 - accuracy: 0.9979 - val_loss: 0.7676 - val_accuracy: 0.8447\n",
      "Epoch 6/10\n",
      "122/122 [==============================] - 2s 19ms/step - loss: 0.0070 - accuracy: 0.9987 - val_loss: 0.7907 - val_accuracy: 0.8519\n",
      "Epoch 7/10\n",
      "122/122 [==============================] - 3s 23ms/step - loss: 0.0032 - accuracy: 0.9997 - val_loss: 0.9855 - val_accuracy: 0.8459\n",
      "Epoch 8/10\n",
      "122/122 [==============================] - 2s 19ms/step - loss: 0.0049 - accuracy: 0.9987 - val_loss: 0.9126 - val_accuracy: 0.8459\n",
      "Epoch 9/10\n",
      "122/122 [==============================] - 2s 19ms/step - loss: 7.9203e-04 - accuracy: 0.9997 - val_loss: 1.0226 - val_accuracy: 0.8453\n",
      "Epoch 10/10\n",
      "122/122 [==============================] - 2s 19ms/step - loss: 3.2989e-04 - accuracy: 1.0000 - val_loss: 1.0480 - val_accuracy: 0.8477\n",
      "Accuracy: 85.01%\n"
     ]
    }
   ],
   "source": [
    "lstm_hist = model.fit(X_train, y_train, epochs=10, validation_split=0.3)\n",
    "loss = lstm_hist.history\n",
    "loss.keys()\n",
    "\n",
    "scores = model.evaluate(X_test, y_test, verbose = 0)\n",
    "print(\"Accuracy: %.2f%%\" % (scores[1]*100))"
   ]
  },
  {
   "cell_type": "markdown",
   "metadata": {},
   "source": [
    "Model Evaluation: Simple RNN"
   ]
  },
  {
   "cell_type": "code",
   "execution_count": 35,
   "metadata": {},
   "outputs": [
    {
     "data": {
      "image/png": "[encoded data removed]",
      "text/plain": [
       "<Figure size 432x288 with 1 Axes>"
      ]
     },
     "metadata": {
      "needs_background": "light"
     },
     "output_type": "display_data"
    }
   ],
   "source": [
    "import matplotlib.pyplot as plt\n",
    "\n",
    "acc = rnn_hist.history['accuracy']\n",
    "val_acc = rnn_hist.history['val_accuracy']\n",
    "loss = rnn_hist.history['loss']\n",
    "val_loss = rnn_hist.history['val_loss']\n",
    "epochs = range(1, len(acc)+1)\n",
    "rnn_eval = plt.plot(epochs, acc, 'r', label='Training acc')\n",
    "rnn_eval = plt.plot(epochs, val_acc, 'b', label='Test acc')\n",
    "rnn_eval = plt.title('SimpleRNN: Training and test accuracy')\n",
    "rnn_eval = plt.xlabel('Epoch')\n",
    "rnn_eval = plt.ylabel('Accuracy')\n",
    "rnn_eval = plt.legend(loc='best')\n",
    "plt.show()"
   ]
  },
  {
   "cell_type": "code",
   "execution_count": 36,
   "metadata": {},
   "outputs": [
    {
     "data": {
      "image/png": "[encoded data removed]",
      "text/plain": [
       "<Figure size 432x288 with 1 Axes>"
      ]
     },
     "metadata": {
      "needs_background": "light"
     },
     "output_type": "display_data"
    }
   ],
   "source": [
    "_ = plt.plot(epochs, loss, 'r', label='Training loss')\n",
    "_ = plt.plot(epochs, val_loss, 'b', label='Validation loss')\n",
    "_ = plt.title('SimpleRNN: Training and validation loss')\n",
    "_ = plt.xlabel('Epoch')\n",
    "_ = plt.ylabel('Loss')\n",
    "_ = plt.legend(loc='best')\n",
    "plt.show()"
   ]
  },
  {
   "cell_type": "markdown",
   "metadata": {},
   "source": [
    "Model Evaluation: LSTM "
   ]
  },
  {
   "cell_type": "code",
   "execution_count": 37,
   "metadata": {},
   "outputs": [
    {
     "data": {
      "image/png": "[encoded data removed]",
      "text/plain": [
       "<Figure size 432x288 with 1 Axes>"
      ]
     },
     "metadata": {
      "needs_background": "light"
     },
     "output_type": "display_data"
    }
   ],
   "source": [
    "import matplotlib.pyplot as plt\n",
    "\n",
    "acc = lstm_hist.history['accuracy']\n",
    "val_acc = lstm_hist.history['val_accuracy']\n",
    "loss = lstm_hist.history['loss']\n",
    "val_loss = lstm_hist.history['val_loss']\n",
    "epochs = range(1, len(acc)+1)\n",
    "_ = plt.plot(epochs, acc, 'r', label='Training acc')\n",
    "_ = plt.plot(epochs, val_acc, 'b', label='Test acc')\n",
    "_ = plt.title('LSTM: Training and test accuracy')\n",
    "_ = plt.xlabel('Epoch')\n",
    "_ = plt.ylabel('Accuracy')\n",
    "_ = plt.legend(loc='best')\n",
    "plt.show()"
   ]
  },
  {
   "cell_type": "code",
   "execution_count": 38,
   "metadata": {},
   "outputs": [
    {
     "data": {
      "image/png": "[encoded data removed]",
      "text/plain": [
       "<Figure size 432x288 with 1 Axes>"
      ]
     },
     "metadata": {
      "needs_background": "light"
     },
     "output_type": "display_data"
    }
   ],
   "source": [
    "_ = plt.plot(epochs, loss, 'r', label='Training loss')\n",
    "_ = plt.plot(epochs, val_loss, 'b', label='Validation loss')\n",
    "_ = plt.title('LSTM: Training and validation loss')\n",
    "_ = plt.xlabel('Epoch')\n",
    "_ = plt.ylabel('Loss')\n",
    "_ = plt.legend(loc='best')\n",
    "plt.show()"
   ]
  },
  {
   "cell_type": "markdown",
   "metadata": {},
   "source": [
    "First, we will try to apply a linear model. In this case, we will use Logistic Regression. "
   ]
  },
  {
   "cell_type": "code",
   "execution_count": 85,
   "metadata": {},
   "outputs": [
    {
     "name": "stdout",
     "output_type": "stream",
     "text": [
      "Training set score: 0.544\n",
      "Test set score: 0.549\n"
     ]
    }
   ],
   "source": [
    "from sklearn.linear_model import LogisticRegression\n",
    "from sklearn.multioutput import MultiOutputClassifier\n",
    "\n",
    "logreg = LogisticRegression()\n",
    "mt_logreg = MultiOutputClassifier(logreg, n_jobs = -1)\n",
    "mt_logreg.fit(X_train, y_train)\n",
    "\n",
    "print(\"Training set score: {:.3f}\".format(mt_logreg.score(X_train, y_train)))\n",
    "print(\"Test set score: {:.3f}\".format(mt_logreg.score(X_test, y_test)))"
   ]
  },
  {
   "cell_type": "markdown",
   "metadata": {},
   "source": [
    "Next algortihm to try is Random Forests Classifier. "
   ]
  },
  {
   "cell_type": "code",
   "execution_count": 41,
   "metadata": {},
   "outputs": [
    {
     "data": {
      "text/plain": [
       "RandomForestClassifier(n_estimators=25, random_state=2)"
      ]
     },
     "execution_count": 41,
     "metadata": {},
     "output_type": "execute_result"
    }
   ],
   "source": [
    "from sklearn.ensemble import RandomForestClassifier\n",
    "\n",
    "forest = RandomForestClassifier(n_estimators=25, random_state=2)\n",
    "forest.fit(X_train, y_train)"
   ]
  },
  {
   "cell_type": "code",
   "execution_count": 42,
   "metadata": {},
   "outputs": [
    {
     "name": "stdout",
     "output_type": "stream",
     "text": [
      "Accuracy on training set: 1.000\n",
      "Accuracy on test set: 0.823\n"
     ]
    }
   ],
   "source": [
    "print(\"Accuracy on training set: {:.3f}\".format(forest.score(X_train, y_train)))\n",
    "print(\"Accuracy on test set: {:.3f}\".format(forest.score(X_test, y_test)))"
   ]
  },
  {
   "cell_type": "markdown",
   "metadata": {},
   "source": [
    "As we can see, it has overfitted, as the test accuracy on the training set is perfect, but the test accuracy is very low. We shall try a range of estimators. "
   ]
  },
  {
   "cell_type": "code",
   "execution_count": 43,
   "metadata": {},
   "outputs": [],
   "source": [
    "n_range = list(range(1, 101))"
   ]
  },
  {
   "cell_type": "code",
   "execution_count": 44,
   "metadata": {},
   "outputs": [],
   "source": [
    "training_score = []\n",
    "test_score = []\n",
    "\n",
    "for i in n_range:\n",
    "    forest = RandomForestClassifier(n_estimators = i, random_state = 2)\n",
    "    forest.fit(X_train, y_train)\n",
    "    training_score.append(forest.score(X_train, y_train))\n",
    "    test_score.append(forest.score(X_test, y_test))"
   ]
  },
  {
   "cell_type": "code",
   "execution_count": 45,
   "metadata": {},
   "outputs": [
    {
     "data": {
      "image/png": "[encoded data removed]",
      "text/plain": [
       "<Figure size 432x288 with 1 Axes>"
      ]
     },
     "metadata": {
      "needs_background": "light"
     },
     "output_type": "display_data"
    }
   ],
   "source": [
    "import matplotlib.pyplot as plt\n",
    "\n",
    "x = n_range\n",
    "y1 = training_score\n",
    "y2 = test_score\n",
    "\n",
    "opt = plt.plot(x, y1, label = 'training')\n",
    "opt = plt.plot(x, y2, label = \"test\")\n",
    "opt = plt.xlabel('N_estimators')\n",
    "opt = plt.ylabel('Score')\n",
    "opt = plt.title('Optimising the number of Estimators')\n",
    "plt.show()"
   ]
  },
  {
   "cell_type": "code",
   "execution_count": 46,
   "metadata": {},
   "outputs": [
    {
     "name": "stdout",
     "output_type": "stream",
     "text": [
      "0.8371116708648195\n",
      "The best n_estimator for best test accuracy is: 37.0\n"
     ]
    }
   ],
   "source": [
    "max_value = max(test_score)\n",
    "opt_n_estimator = test_score.index(max_value) + 1\n",
    "print(max_value)\n",
    "print(\"The best n_estimator for best test accuracy is: {:.1f}\".format(opt_n_estimator))"
   ]
  },
  {
   "cell_type": "code",
   "execution_count": 47,
   "metadata": {},
   "outputs": [
    {
     "name": "stdout",
     "output_type": "stream",
     "text": [
      "Accuracy on training set: 1.000\n",
      "Accuracy on test set: 0.837\n"
     ]
    }
   ],
   "source": [
    "forest = RandomForestClassifier(n_estimators=opt_n_estimator, random_state=2)\n",
    "forest.fit(X_train, y_train)\n",
    "print(\"Accuracy on training set: {:.3f}\".format(forest.score(X_train, y_train)))\n",
    "print(\"Accuracy on test set: {:.3f}\".format(forest.score(X_test, y_test)))"
   ]
  },
  {
   "cell_type": "markdown",
   "metadata": {},
   "source": [
    "Use of Kernelized Support Vector Machines, can lead to good results. "
   ]
  },
  {
   "cell_type": "code",
   "execution_count": 89,
   "metadata": {},
   "outputs": [
    {
     "name": "stdout",
     "output_type": "stream",
     "text": [
      "Training set score: 0.648\n",
      "Test set score: 0.610\n"
     ]
    }
   ],
   "source": [
    "from sklearn.svm import SVC\n",
    "\n",
    "svc = SVC()\n",
    "mt_svc = MultiOutputClassifier(svc, n_jobs = -1)\n",
    "mt_svc.fit(X_train, y_train)\n",
    "\n",
    "print(\"Training set score: {:.3f}\".format(mt_svc.score(X_train, y_train)))\n",
    "print(\"Test set score: {:.3f}\".format(mt_svc.score(X_test, y_test)))"
   ]
  },
  {
   "cell_type": "code",
   "execution_count": 86,
   "metadata": {},
   "outputs": [
    {
     "name": "stdout",
     "output_type": "stream",
     "text": [
      "Training set score: 0.424\n",
      "Test set score: 0.420\n"
     ]
    }
   ],
   "source": [
    "# Testing to see if Standard SVC and Linear SVC have any differences. \n",
    "\n",
    "from sklearn.svm import LinearSVC\n",
    "\n",
    "lsvc = LinearSVC()\n",
    "mt_lsvc = MultiOutputClassifier(lsvc, n_jobs = -1)\n",
    "mt_lsvc.fit(X_train, y_train)\n",
    "\n",
    "print(\"Training set score: {:.3f}\".format(mt_lsvc.score(X_train, y_train)))\n",
    "print(\"Test set score: {:.3f}\".format(mt_lsvc.score(X_test, y_test)))"
   ]
  },
  {
   "cell_type": "markdown",
   "metadata": {},
   "source": [
    "We will also try a Naive Bayes algortihm to see whether it will yield a greater accuracy. "
   ]
  },
  {
   "cell_type": "code",
   "execution_count": 91,
   "metadata": {},
   "outputs": [
    {
     "name": "stdout",
     "output_type": "stream",
     "text": [
      "Accuracy on training set: 0.549\n",
      "Accuracy on test set: 0.558\n"
     ]
    }
   ],
   "source": [
    "from sklearn.naive_bayes import MultinomialNB\n",
    "\n",
    "mnb = MultinomialNB()\n",
    "mt_mnb = MultiOutputClassifier(mnb, n_jobs=-1)\n",
    "mt_mnb.fit(X_train, y_train)\n",
    "\n",
    "print(\"Accuracy on training set: {:.3f}\".format(mt_mnb.score(X_train, y_train)))\n",
    "print(\"Accuracy on test set: {:.3f}\".format(mt_mnb.score(X_test, y_test)))"
   ]
  },
  {
   "cell_type": "markdown",
   "metadata": {},
   "source": [
    "As we can see, the accuracy of the model seems very low. We can fix this by scaling the data. We can use scalers provided in the libraries. "
   ]
  },
  {
   "cell_type": "code",
   "execution_count": 51,
   "metadata": {},
   "outputs": [],
   "source": [
    "from sklearn.preprocessing import StandardScaler, LabelBinarizer\n",
    "\n",
    "#I am using the LabelBinarizer(), to see the effect it has on the data. \n",
    "lb = LabelBinarizer()\n",
    "\n",
    "y_train_labelled = lb.fit_transform(y_train)\n",
    "y_test_labelled = lb.fit_transform(y_test)"
   ]
  },
  {
   "cell_type": "code",
   "execution_count": 52,
   "metadata": {},
   "outputs": [],
   "source": [
    "scaler = StandardScaler()\n",
    "X_train_scaled = scaler.fit_transform(X_train)\n",
    "X_test_scaled = scaler.fit_transform(X_test)"
   ]
  },
  {
   "cell_type": "code",
   "execution_count": 53,
   "metadata": {},
   "outputs": [],
   "source": [
    "from sklearn.preprocessing import MinMaxScaler\n",
    "scaler = MinMaxScaler()\n",
    "X_train_MM = scaler.fit_transform(X_train)\n",
    "X_test_MM = scaler.fit_transform(X_test)"
   ]
  },
  {
   "cell_type": "markdown",
   "metadata": {},
   "source": [
    "We will now use the scaled data to see if the accuracy improves. "
   ]
  },
  {
   "cell_type": "code",
   "execution_count": 87,
   "metadata": {},
   "outputs": [
    {
     "name": "stdout",
     "output_type": "stream",
     "text": [
      "Training set score: 0.545\n",
      "Test set score: 0.552\n"
     ]
    }
   ],
   "source": [
    "from sklearn.linear_model import LogisticRegression\n",
    "\n",
    "logreg = LogisticRegression()\n",
    "mt_logreg = MultiOutputClassifier(logreg, n_jobs = -1)\n",
    "mt_logreg.fit(X_train_scaled, y_train)\n",
    "\n",
    "print(\"Training set score: {:.3f}\".format(mt_logreg.score(X_train_scaled, y_train)))\n",
    "print(\"Test set score: {:.3f}\".format(mt_logreg.score(X_test_scaled, y_test)))"
   ]
  },
  {
   "cell_type": "code",
   "execution_count": 88,
   "metadata": {},
   "outputs": [
    {
     "name": "stdout",
     "output_type": "stream",
     "text": [
      "Accuracy on training set: 1.000\n",
      "Accuracy on test set: 0.821\n"
     ]
    }
   ],
   "source": [
    "from sklearn.ensemble import RandomForestClassifier\n",
    "\n",
    "forest = RandomForestClassifier(n_estimators=85, random_state=2)\n",
    "forest.fit(X_train_scaled, y_train)\n",
    "\n",
    "print(\"Accuracy on training set: {:.3f}\".format(forest.score(X_train_scaled, y_train)))\n",
    "print(\"Accuracy on test set: {:.3f}\".format(forest.score(X_test_scaled, y_test)))"
   ]
  },
  {
   "cell_type": "code",
   "execution_count": 90,
   "metadata": {},
   "outputs": [
    {
     "name": "stdout",
     "output_type": "stream",
     "text": [
      "Training set score: 0.648\n",
      "Test set score: 0.610\n"
     ]
    }
   ],
   "source": [
    "from sklearn.svm import SVC\n",
    "\n",
    "svc = SVC()\n",
    "mt_svc = MultiOutputClassifier(svc, n_jobs = -1)\n",
    "mt_svc.fit(X_train_MM, y_train)\n",
    "\n",
    "print(\"Training set score: {:.3f}\".format(mt_svc.score(X_train_MM, y_train)))\n",
    "print(\"Test set score: {:.3f}\".format(mt_svc.score(X_test_MM, y_test)))"
   ]
  },
  {
   "cell_type": "markdown",
   "metadata": {},
   "source": [
    "We see no increase in the accuracy of the SVC when scaling the data. Weirdly, the accuracy of the Random Forest Classifier and Logistic Regression actually decreased. I also wanted to scale the data a slightly different way, to see if this would affect the accuracy. \n",
    "\n",
    "\n",
    "Random Forest would not improve becasue it is not a distance based algorithm, instead being a rule based algorithm, hence the scaling would not improve the accuracy. This also applies to Naive Bayes. \n",
    "\n",
    "    "
   ]
  },
  {
   "cell_type": "code",
   "execution_count": 57,
   "metadata": {},
   "outputs": [],
   "source": [
    "# This is the equivalent to the MinMaxScaler\n",
    "\n",
    "min_on_training = X_train.min(axis = 0)\n",
    "range_on_training = (X_train - min_on_training).max(axis = 0)\n",
    "X_train_manual_scaled = (X_train - min_on_training) / range_on_training\n",
    "\n",
    "X_test_manual_scaled = (X_test - min_on_training) / range_on_training"
   ]
  },
  {
   "cell_type": "code",
   "execution_count": 58,
   "metadata": {},
   "outputs": [
    {
     "name": "stdout",
     "output_type": "stream",
     "text": [
      "Accuracy on training set: 0.648\n",
      "Accuracy on test set: 0.609\n"
     ]
    }
   ],
   "source": [
    "svc = SVC()\n",
    "svc.fit(X_train_manual_scaled, y_train_1D)\n",
    "\n",
    "print(\"Accuracy on training set: {:.3f}\".format(svc.score(X_train_manual_scaled, y_train_1D)))\n",
    "print(\"Accuracy on test set: {:.3f}\".format(svc.score(X_test_manual_scaled, y_test_1D)))"
   ]
  },
  {
   "cell_type": "markdown",
   "metadata": {},
   "source": [
    "We are seeing if the scaled data improves the accuracy of the Deep Learning Algorithms. "
   ]
  },
  {
   "cell_type": "code",
   "execution_count": 59,
   "metadata": {},
   "outputs": [],
   "source": [
    "# Prepare hyperparameters of RNN\n",
    "vocab_size = len(word_index)+1\n",
    "output_dim = 32"
   ]
  },
  {
   "cell_type": "code",
   "execution_count": 60,
   "metadata": {},
   "outputs": [],
   "source": [
    "# SimpleRNN\n",
    "warnings.filterwarnings(\"ignore\")\n",
    "model = Sequential()\n",
    "model.add(Embedding(input_dim = vocab_size, output_dim = output_dim, input_length = maxlen))\n",
    "model.add(SimpleRNN(units = output_dim, return_sequences=True, kernel_constraint=maxnorm(3)))\n",
    "model.add(Dropout(0.2))\n",
    "model.add(SimpleRNN(units = output_dim, return_sequences=True, kernel_constraint=maxnorm(3)))\n",
    "model.add(Dropout(0.2))\n",
    "model.add(SimpleRNN(units = output_dim))\n",
    "model.add(Dense(2,activation='softmax'))\n",
    "model.compile(loss = 'binary_crossentropy', optimizer='adam', metrics = ['accuracy'])\n",
    "warnings.filterwarnings(\"ignore\")"
   ]
  },
  {
   "cell_type": "code",
   "execution_count": 61,
   "metadata": {},
   "outputs": [
    {
     "name": "stdout",
     "output_type": "stream",
     "text": [
      "Model: \"sequential_2\"\n",
      "_________________________________________________________________\n",
      "Layer (type)                 Output Shape              Param #   \n",
      "=================================================================\n",
      "embedding_2 (Embedding)      (None, 14, 32)            465728    \n",
      "_________________________________________________________________\n",
      "simple_rnn_3 (SimpleRNN)     (None, 14, 32)            2080      \n",
      "_________________________________________________________________\n",
      "dropout_4 (Dropout)          (None, 14, 32)            0         \n",
      "_________________________________________________________________\n",
      "simple_rnn_4 (SimpleRNN)     (None, 14, 32)            2080      \n",
      "_________________________________________________________________\n",
      "dropout_5 (Dropout)          (None, 14, 32)            0         \n",
      "_________________________________________________________________\n",
      "simple_rnn_5 (SimpleRNN)     (None, 32)                2080      \n",
      "_________________________________________________________________\n",
      "dense_2 (Dense)              (None, 2)                 66        \n",
      "=================================================================\n",
      "Total params: 472,034\n",
      "Trainable params: 472,034\n",
      "Non-trainable params: 0\n",
      "_________________________________________________________________\n"
     ]
    }
   ],
   "source": [
    "model.summary()"
   ]
  },
  {
   "cell_type": "code",
   "execution_count": 62,
   "metadata": {},
   "outputs": [
    {
     "name": "stdout",
     "output_type": "stream",
     "text": [
      "Epoch 1/10\n",
      "122/122 [==============================] - 3s 13ms/step - loss: 0.6949 - accuracy: 0.5386 - val_loss: 0.6887 - val_accuracy: 0.5474\n",
      "Epoch 2/10\n",
      "122/122 [==============================] - 2s 13ms/step - loss: 0.6913 - accuracy: 0.5445 - val_loss: 0.6889 - val_accuracy: 0.5474\n",
      "Epoch 3/10\n",
      "122/122 [==============================] - 2s 13ms/step - loss: 0.6904 - accuracy: 0.5506 - val_loss: 0.6887 - val_accuracy: 0.5474\n",
      "Epoch 4/10\n",
      "122/122 [==============================] - 1s 12ms/step - loss: 0.6886 - accuracy: 0.5496 - val_loss: 0.6920 - val_accuracy: 0.5474\n",
      "Epoch 5/10\n",
      "122/122 [==============================] - 1s 11ms/step - loss: 0.6908 - accuracy: 0.5504 - val_loss: 0.6913 - val_accuracy: 0.5468\n",
      "Epoch 6/10\n",
      "122/122 [==============================] - 1s 11ms/step - loss: 0.6902 - accuracy: 0.5427 - val_loss: 0.6887 - val_accuracy: 0.5474\n",
      "Epoch 7/10\n",
      "122/122 [==============================] - 1s 11ms/step - loss: 0.6889 - accuracy: 0.5499 - val_loss: 0.6889 - val_accuracy: 0.5474\n",
      "Epoch 8/10\n",
      "122/122 [==============================] - 1s 11ms/step - loss: 0.6890 - accuracy: 0.5504 - val_loss: 0.6889 - val_accuracy: 0.5474\n",
      "Epoch 9/10\n",
      "122/122 [==============================] - 1s 10ms/step - loss: 0.6893 - accuracy: 0.5512 - val_loss: 0.6890 - val_accuracy: 0.5474\n",
      "Epoch 10/10\n",
      "122/122 [==============================] - 1s 11ms/step - loss: 0.6895 - accuracy: 0.5506 - val_loss: 0.6887 - val_accuracy: 0.5474\n",
      "Accuracy: 56.97%\n"
     ]
    }
   ],
   "source": [
    "# We are now fitting the model to the training data: \n",
    "\n",
    "rnn_hist = model.fit(X_train_MM, y_train, epochs = 10, validation_split = 0.3)\n",
    "\n",
    "scores = model.evaluate(X_test_MM, y_test, verbose = 0)\n",
    "warnings.filterwarnings(\"ignore\")\n",
    "\n",
    "print(\"Accuracy: %.2f%%\" % (scores[1]*100))\n",
    "warnings.filterwarnings(\"ignore\")"
   ]
  },
  {
   "cell_type": "code",
   "execution_count": 63,
   "metadata": {},
   "outputs": [
    {
     "name": "stdout",
     "output_type": "stream",
     "text": [
      "INFO:tensorflow:Assets written to: srnn.h2\\assets\n"
     ]
    }
   ],
   "source": [
    "model.save('srnn.h2')"
   ]
  },
  {
   "cell_type": "code",
   "execution_count": 64,
   "metadata": {},
   "outputs": [],
   "source": [
    "# LSTM Model: \n",
    "\n",
    "#Architecture\n",
    "model = Sequential()\n",
    "model.add(Embedding(input_dim = vocab_size, output_dim = output_dim, input_length = maxlen))\n",
    "model.add(LSTM(units=output_dim, return_sequences=True, kernel_constraint=maxnorm(3)))\n",
    "model.add(Dropout(0.2))\n",
    "model.add(LSTM(units=output_dim, return_sequences=True, kernel_constraint=maxnorm(3)))\n",
    "model.add(Dropout(0.2))\n",
    "model.add(LSTM(units=output_dim, kernel_constraint=maxnorm(3)))\n",
    "model.add(Dense(2,activation='softmax'))\n",
    "model.compile(loss = 'categorical_crossentropy', optimizer='adam', metrics = ['accuracy'])\n",
    "warnings.filterwarnings(\"ignore\")"
   ]
  },
  {
   "cell_type": "code",
   "execution_count": 65,
   "metadata": {},
   "outputs": [
    {
     "name": "stdout",
     "output_type": "stream",
     "text": [
      "Model: \"sequential_3\"\n",
      "_________________________________________________________________\n",
      "Layer (type)                 Output Shape              Param #   \n",
      "=================================================================\n",
      "embedding_3 (Embedding)      (None, 14, 32)            465728    \n",
      "_________________________________________________________________\n",
      "lstm_3 (LSTM)                (None, 14, 32)            8320      \n",
      "_________________________________________________________________\n",
      "dropout_6 (Dropout)          (None, 14, 32)            0         \n",
      "_________________________________________________________________\n",
      "lstm_4 (LSTM)                (None, 14, 32)            8320      \n",
      "_________________________________________________________________\n",
      "dropout_7 (Dropout)          (None, 14, 32)            0         \n",
      "_________________________________________________________________\n",
      "lstm_5 (LSTM)                (None, 32)                8320      \n",
      "_________________________________________________________________\n",
      "dense_3 (Dense)              (None, 2)                 66        \n",
      "=================================================================\n",
      "Total params: 490,754\n",
      "Trainable params: 490,754\n",
      "Non-trainable params: 0\n",
      "_________________________________________________________________\n"
     ]
    }
   ],
   "source": [
    "model.summary()"
   ]
  },
  {
   "cell_type": "code",
   "execution_count": 66,
   "metadata": {},
   "outputs": [
    {
     "name": "stderr",
     "output_type": "stream",
     "text": [
      "WARNING:absl:Found untraced functions such as lstm_cell_3_layer_call_and_return_conditional_losses, lstm_cell_3_layer_call_fn, lstm_cell_4_layer_call_and_return_conditional_losses, lstm_cell_4_layer_call_fn, lstm_cell_5_layer_call_and_return_conditional_losses while saving (showing 5 of 15). These functions will not be directly callable after loading.\n"
     ]
    },
    {
     "name": "stdout",
     "output_type": "stream",
     "text": [
      "INFO:tensorflow:Assets written to: lstm.h2\\assets\n"
     ]
    },
    {
     "name": "stderr",
     "output_type": "stream",
     "text": [
      "INFO:tensorflow:Assets written to: lstm.h2\\assets\n"
     ]
    }
   ],
   "source": [
    "model.save('lstm.h2')"
   ]
  },
  {
   "cell_type": "code",
   "execution_count": 67,
   "metadata": {},
   "outputs": [
    {
     "name": "stdout",
     "output_type": "stream",
     "text": [
      "Epoch 1/10\n",
      "122/122 [==============================] - 6s 25ms/step - loss: 0.6895 - accuracy: 0.5458 - val_loss: 0.6894 - val_accuracy: 0.5474\n",
      "Epoch 2/10\n",
      "122/122 [==============================] - 3s 23ms/step - loss: 0.6894 - accuracy: 0.5504 - val_loss: 0.6886 - val_accuracy: 0.5474\n",
      "Epoch 3/10\n",
      "122/122 [==============================] - 2s 19ms/step - loss: 0.6888 - accuracy: 0.5504 - val_loss: 0.6885 - val_accuracy: 0.5474\n",
      "Epoch 4/10\n",
      "122/122 [==============================] - 2s 18ms/step - loss: 0.6883 - accuracy: 0.5504 - val_loss: 0.6881 - val_accuracy: 0.5474\n",
      "Epoch 5/10\n",
      "122/122 [==============================] - 2s 18ms/step - loss: 0.6877 - accuracy: 0.5504 - val_loss: 0.6874 - val_accuracy: 0.5474\n",
      "Epoch 6/10\n",
      "122/122 [==============================] - 2s 18ms/step - loss: 0.6881 - accuracy: 0.5504 - val_loss: 0.6868 - val_accuracy: 0.5474\n",
      "Epoch 7/10\n",
      "122/122 [==============================] - 2s 18ms/step - loss: 0.6869 - accuracy: 0.5504 - val_loss: 0.6847 - val_accuracy: 0.5474\n",
      "Epoch 8/10\n",
      "122/122 [==============================] - 2s 18ms/step - loss: 0.6869 - accuracy: 0.5504 - val_loss: 0.6847 - val_accuracy: 0.5474\n",
      "Epoch 9/10\n",
      "122/122 [==============================] - 3s 22ms/step - loss: 0.6867 - accuracy: 0.5504 - val_loss: 0.6860 - val_accuracy: 0.5474\n",
      "Epoch 10/10\n",
      "122/122 [==============================] - 2s 19ms/step - loss: 0.6865 - accuracy: 0.5504 - val_loss: 0.6858 - val_accuracy: 0.5474\n",
      "Accuracy: 56.97%\n"
     ]
    }
   ],
   "source": [
    "lstm_hist = model.fit(X_train_scaled, y_train, epochs=10, validation_split=0.3)\n",
    "loss = lstm_hist.history\n",
    "loss.keys()\n",
    "\n",
    "scores = model.evaluate(X_test_scaled, y_test, verbose = 0)\n",
    "print(\"Accuracy: %.2f%%\" % (scores[1]*100))"
   ]
  },
  {
   "cell_type": "markdown",
   "metadata": {},
   "source": [
    "Advice given to me said that scaling data would really improve the accuracy of neural networks, but it seems of have the opposite effect on my RNN and LSTM models. I will research into why this was the case. "
   ]
  },
  {
   "cell_type": "markdown",
   "metadata": {},
   "source": [
    "Model Evaluation: Simple RNN"
   ]
  },
  {
   "cell_type": "code",
   "execution_count": 68,
   "metadata": {},
   "outputs": [
    {
     "data": {
      "image/png": "[encoded data removed]",
      "text/plain": [
       "<Figure size 432x288 with 1 Axes>"
      ]
     },
     "metadata": {
      "needs_background": "light"
     },
     "output_type": "display_data"
    }
   ],
   "source": [
    "import matplotlib.pyplot as plt\n",
    "\n",
    "acc = rnn_hist.history['accuracy']\n",
    "val_acc = rnn_hist.history['val_accuracy']\n",
    "loss = rnn_hist.history['loss']\n",
    "val_loss = rnn_hist.history['val_loss']\n",
    "epochs = range(1, len(acc)+1)\n",
    "rnn_eval = plt.plot(epochs, acc, 'r', label='Training acc')\n",
    "rnn_eval = plt.plot(epochs, val_acc, 'b', label='Test acc')\n",
    "rnn_eval = plt.title('SimpleRNN: Training and test accuracy')\n",
    "rnn_eval = plt.xlabel('Epoch')\n",
    "rnn_eval = plt.ylabel('Accuracy')\n",
    "rnn_eval = plt.legend(loc='best')\n",
    "plt.show()"
   ]
  },
  {
   "cell_type": "code",
   "execution_count": 69,
   "metadata": {},
   "outputs": [
    {
     "data": {
      "image/png": "[encoded data removed]",
      "text/plain": [
       "<Figure size 432x288 with 1 Axes>"
      ]
     },
     "metadata": {
      "needs_background": "light"
     },
     "output_type": "display_data"
    }
   ],
   "source": [
    "_ = plt.plot(epochs, loss, 'r', label='Training loss')\n",
    "_ = plt.plot(epochs, val_loss, 'b', label='Validation loss')\n",
    "_ = plt.title('SimpleRNN: Training and validation loss')\n",
    "_ = plt.xlabel('Epoch')\n",
    "_ = plt.ylabel('Loss')\n",
    "_ = plt.legend(loc='best')\n",
    "plt.show()"
   ]
  },
  {
   "cell_type": "markdown",
   "metadata": {},
   "source": [
    "Model Evaluation: LSTM "
   ]
  },
  {
   "cell_type": "code",
   "execution_count": 70,
   "metadata": {},
   "outputs": [
    {
     "data": {
      "image/png": "[encoded data removed]",
      "text/plain": [
       "<Figure size 432x288 with 1 Axes>"
      ]
     },
     "metadata": {
      "needs_background": "light"
     },
     "output_type": "display_data"
    }
   ],
   "source": [
    "import matplotlib.pyplot as plt\n",
    "\n",
    "acc = lstm_hist.history['accuracy']\n",
    "val_acc = lstm_hist.history['val_accuracy']\n",
    "loss = lstm_hist.history['loss']\n",
    "val_loss = lstm_hist.history['val_loss']\n",
    "epochs = range(1, len(acc)+1)\n",
    "_ = plt.plot(epochs, acc, 'r', label='Training acc')\n",
    "_ = plt.plot(epochs, val_acc, 'b', label='Test acc')\n",
    "_ = plt.title('LSTM: Training and test accuracy')\n",
    "_ = plt.xlabel('Epoch')\n",
    "_ = plt.ylabel('Accuracy')\n",
    "_ = plt.legend(loc='best')\n",
    "plt.show()"
   ]
  },
  {
   "cell_type": "code",
   "execution_count": 71,
   "metadata": {},
   "outputs": [
    {
     "data": {
      "image/png": "[encoded data removed]",
      "text/plain": [
       "<Figure size 432x288 with 1 Axes>"
      ]
     },
     "metadata": {
      "needs_background": "light"
     },
     "output_type": "display_data"
    }
   ],
   "source": [
    "_ = plt.plot(epochs, loss, 'r', label='Training loss')\n",
    "_ = plt.plot(epochs, val_loss, 'b', label='Validation loss')\n",
    "_ = plt.title('LSTM: Training and validation loss')\n",
    "_ = plt.xlabel('Epoch')\n",
    "_ = plt.ylabel('Loss')\n",
    "_ = plt.legend(loc='best')\n",
    "plt.show()"
   ]
  },
  {
   "cell_type": "markdown",
   "metadata": {},
   "source": [
    "Having created our models, we will continue to optimise them to improve accuracy. We will use this by evaluating our modles using the tools provided by the sklearn library. "
   ]
  },
  {
   "cell_type": "code",
   "execution_count": 93,
   "metadata": {},
   "outputs": [
    {
     "name": "stdout",
     "output_type": "stream",
     "text": [
      "Parameters in use:\n",
      "\n",
      "{'bootstrap': True,\n",
      " 'ccp_alpha': 0.0,\n",
      " 'class_weight': None,\n",
      " 'criterion': 'gini',\n",
      " 'max_depth': None,\n",
      " 'max_features': 'auto',\n",
      " 'max_leaf_nodes': None,\n",
      " 'max_samples': None,\n",
      " 'min_impurity_decrease': 0.0,\n",
      " 'min_impurity_split': None,\n",
      " 'min_samples_leaf': 1,\n",
      " 'min_samples_split': 2,\n",
      " 'min_weight_fraction_leaf': 0.0,\n",
      " 'n_estimators': 85,\n",
      " 'n_jobs': None,\n",
      " 'oob_score': False,\n",
      " 'random_state': 2,\n",
      " 'verbose': 0,\n",
      " 'warm_start': False}\n"
     ]
    }
   ],
   "source": [
    "# We need to create the random grid of parameters to apply the RandomizedSearchCV to. \n",
    "\n",
    "from pprint import pprint \n",
    "\n",
    "print('Parameters in use:\\n')\n",
    "pprint(forest.get_params())"
   ]
  },
  {
   "cell_type": "code",
   "execution_count": 99,
   "metadata": {},
   "outputs": [
    {
     "name": "stdout",
     "output_type": "stream",
     "text": [
      "{'bootstrap': [True, False],\n",
      " 'max_features': ['auto', 'sqrt'],\n",
      " 'min_samples_leaf': [1, 2, 4],\n",
      " 'min_samples_split': [2, 5, 10],\n",
      " 'n_estimators': [0, 222, 444, 666, 888, 1111, 1333, 1555, 1777, 2000]}\n"
     ]
    }
   ],
   "source": [
    "# We will choose the parameters to improve and add them to a grid. \n",
    "\n",
    "n_esimators = [int(x) for x in np.linspace(start = 0, stop = 2000, num = 10)]\n",
    "max_features = ['auto', 'sqrt']\n",
    "max_depth = [int(x) for x in np.linspace(10, 110, num = 11)]\n",
    "max_depth.append(None)\n",
    "min_samples_split = [2, 5, 10]\n",
    "min_samples_leaf = [1, 2, 4]\n",
    "bootstrap = [True, False]\n",
    "\n",
    "random_grid = {'n_estimators' : n_esimators,\n",
    "               'max_features' : max_features,\n",
    "               'min_samples_split' : min_samples_split,\n",
    "               'min_samples_leaf' : min_samples_leaf,\n",
    "               'bootstrap' : bootstrap}\n",
    "\n",
    "pprint(random_grid)"
   ]
  },
  {
   "cell_type": "code",
   "execution_count": 100,
   "metadata": {},
   "outputs": [
    {
     "name": "stdout",
     "output_type": "stream",
     "text": [
      "Fitting 3 folds for each of 100 candidates, totalling 300 fits\n",
      "Training duration(minutes): 15.806758995850881\n"
     ]
    }
   ],
   "source": [
    "from sklearn.model_selection import RandomizedSearchCV\n",
    "\n",
    "start = time.time()\n",
    "\n",
    "forest_random = RandomizedSearchCV(estimator= forest, param_distributions= random_grid, scoring = 'neg_mean_absolute_error',\n",
    "                                    n_iter=100, cv = 3, verbose = 2, random_state=2, n_jobs= -1, return_train_score = True)\n",
    "\n",
    "forest_random.fit(X_train, y_train)\n",
    "\n",
    "end = time.time()\n",
    "total = (end-start)/60\n",
    "print('Training duration(minutes): {}'.format(total))"
   ]
  },
  {
   "cell_type": "code",
   "execution_count": 96,
   "metadata": {},
   "outputs": [
    {
     "data": {
      "text/plain": [
       "{'n_estimators': 800,\n",
       " 'min_samples_split': 5,\n",
       " 'min_samples_leaf': 1,\n",
       " 'max_features': 'sqrt',\n",
       " 'bootstrap': False}"
      ]
     },
     "execution_count": 96,
     "metadata": {},
     "output_type": "execute_result"
    }
   ],
   "source": [
    "forest_random.best_params_"
   ]
  },
  {
   "cell_type": "code",
   "execution_count": 98,
   "metadata": {},
   "outputs": [
    {
     "name": "stdout",
     "output_type": "stream",
     "text": [
      "Accuracy on training set: 1.000\n",
      "Accuracy on test set: 0.841\n"
     ]
    }
   ],
   "source": [
    "from sklearn.ensemble import RandomForestClassifier\n",
    "\n",
    "forest = RandomForestClassifier(n_estimators=800, random_state=2, min_samples_split=5, min_samples_leaf=1, max_features='sqrt', bootstrap=False)\n",
    "forest.fit(X_train, y_train)\n",
    "\n",
    "print(\"Accuracy on training set: {:.3f}\".format(forest.score(X_train, y_train)))\n",
    "print(\"Accuracy on test set: {:.3f}\".format(forest.score(X_test, y_test)))"
   ]
  },
  {
   "cell_type": "markdown",
   "metadata": {},
   "source": [
    "This has increased accuracy by 2.2%, which seems like a very small return for the amount of processing time. We will now use the predict on our data and compare it to the original labelled data. "
   ]
  },
  {
   "cell_type": "code",
   "execution_count": 101,
   "metadata": {},
   "outputs": [],
   "source": [
    "from keras.models import load_model\n",
    "\n",
    "lstm = load_model('lstm.h5')\n",
    "warnings.filterwarnings('ignore')"
   ]
  },
  {
   "cell_type": "code",
   "execution_count": 102,
   "metadata": {},
   "outputs": [
    {
     "name": "stdout",
     "output_type": "stream",
     "text": [
      "Model: \"sequential_1\"\n",
      "_________________________________________________________________\n",
      "Layer (type)                 Output Shape              Param #   \n",
      "=================================================================\n",
      "embedding_1 (Embedding)      (None, 14, 32)            465728    \n",
      "_________________________________________________________________\n",
      "lstm (LSTM)                  (None, 14, 32)            8320      \n",
      "_________________________________________________________________\n",
      "dropout_2 (Dropout)          (None, 14, 32)            0         \n",
      "_________________________________________________________________\n",
      "lstm_1 (LSTM)                (None, 14, 32)            8320      \n",
      "_________________________________________________________________\n",
      "dropout_3 (Dropout)          (None, 14, 32)            0         \n",
      "_________________________________________________________________\n",
      "lstm_2 (LSTM)                (None, 32)                8320      \n",
      "_________________________________________________________________\n",
      "dense_1 (Dense)              (None, 2)                 66        \n",
      "=================================================================\n",
      "Total params: 490,754\n",
      "Trainable params: 490,754\n",
      "Non-trainable params: 0\n",
      "_________________________________________________________________\n"
     ]
    }
   ],
   "source": [
    "lstm.summary()"
   ]
  },
  {
   "cell_type": "code",
   "execution_count": 103,
   "metadata": {},
   "outputs": [],
   "source": [
    "predictions = lstm.predict(X_test)"
   ]
  },
  {
   "cell_type": "code",
   "execution_count": 104,
   "metadata": {},
   "outputs": [],
   "source": [
    "probability_positive = predictions[:,1]"
   ]
  },
  {
   "cell_type": "code",
   "execution_count": 105,
   "metadata": {},
   "outputs": [
    {
     "data": {
      "text/plain": [
       "2382"
      ]
     },
     "execution_count": 105,
     "metadata": {},
     "output_type": "execute_result"
    }
   ],
   "source": [
    "len(probability_positive)"
   ]
  },
  {
   "cell_type": "code",
   "execution_count": null,
   "metadata": {},
   "outputs": [],
   "source": []
  }
 ],
 "metadata": {
  "kernelspec": {
   "display_name": "Python 3",
   "language": "python",
   "name": "python3"
  },
  "language_info": {
   "codemirror_mode": {
    "name": "ipython",
    "version": 3
   },
   "file_extension": ".py",
   "mimetype": "text/x-python",
   "name": "python",
   "nbconvert_exporter": "python",
   "pygments_lexer": "ipython3",
   "version": "3.8.5"
  }
 },
 "nbformat": 4,
 "nbformat_minor": 4
}
